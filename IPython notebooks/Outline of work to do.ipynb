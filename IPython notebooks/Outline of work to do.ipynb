{
 "metadata": {
  "name": ""
 },
 "nbformat": 3,
 "nbformat_minor": 0,
 "worksheets": [
  {
   "cells": [
    {
     "cell_type": "markdown",
     "metadata": {},
     "source": [
      "Following the CHI2008 article, the outline is the following:\n",
      "\n",
      "- learn chord transition probabilities\n",
      "- learn melody chord probabilities\n",
      "- record melody\n",
      "- track pitch\n",
      "- suggest optimal chords\n",
      "- play output (synthetize the chord notes)\n",
      "\n",
      "\n",
      "Things that still need to be done:\n",
      "\n",
      "- minor, major mode clustering\n",
      "- take into account the time each note is played during each measure (I'm not sure if they really do this in their algorithm, but it makes sense to weigh the melody observation matrix by the length of the note observed on top of it)\n",
      "- do an IPython notebook on the Viterbi algorithm"
     ]
    }
   ],
   "metadata": {}
  }
 ]
}